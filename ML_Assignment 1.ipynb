{
 "cells": [
  {
   "cell_type": "markdown",
   "id": "3c41545c",
   "metadata": {},
   "source": [
    "1. What does one mean by the term &quot;machine learning&quot;?\n",
    "\n",
    "Machine learning is a branch of artificial intelligence and computer science which focuses on the use of data and algorithims to imitate the way that humans learn"
   ]
  },
  {
   "cell_type": "markdown",
   "id": "4f1bce83",
   "metadata": {},
   "source": [
    "2.Can you think of 4 distinct types of issues where it shines?\n",
    "\n",
    "1. image Recognition\n",
    "2. speech Recognition\n",
    "3. Traffic Prediction\n",
    "4. Prooduct recommendation"
   ]
  },
  {
   "cell_type": "markdown",
   "id": "bd565b69",
   "metadata": {},
   "source": [
    "3.What is a labeled training set, and how does it work?\n",
    "\n",
    "you split up the data containing known response variable value into two places, the training set is used to train the algorithm "
   ]
  },
  {
   "cell_type": "markdown",
   "id": "c6d0ee74",
   "metadata": {},
   "source": [
    "4.What are the two most important tasks that are supervised?\n",
    "\n",
    "The two most common supervised learning tasks are Regression and Classification"
   ]
  },
  {
   "cell_type": "markdown",
   "id": "4a6fdec7",
   "metadata": {},
   "source": [
    "5.Can you think of four examples of unsupervised tasks?\n",
    "\n",
    "four examples of unsupervised tasks\n",
    "1.Clustering\n",
    "2.Visualization\n",
    "3.Reduction\n",
    "4.Dimensionality\n",
    "5.Associate rule learning\n"
   ]
  },
  {
   "cell_type": "markdown",
   "id": "34f1a9fd",
   "metadata": {},
   "source": [
    "6.State the machine learning model that would be best to make a robot walk through various\n",
    "unfamiliar terrains?\n",
    "\n",
    "The best ML algorithms to allow a robot to walk is Reinforced learning"
   ]
  },
  {
   "cell_type": "markdown",
   "id": "e7c2ce7d",
   "metadata": {},
   "source": [
    "7.Which algorithm will you use to divide your customers into different groups?\n",
    "\n",
    "The best algorithms to segment cluster into different group is either supervised learning or unsupervised learning."
   ]
  },
  {
   "cell_type": "markdown",
   "id": "8fe8bee4",
   "metadata": {},
   "source": [
    "8.Will you consider the problem of spam detection to be a supervised or unsupervised learning\n",
    "problem?\n",
    "\n",
    "\n",
    "spam detection is a supervsed machine learning problem."
   ]
  },
  {
   "cell_type": "markdown",
   "id": "c502b21b",
   "metadata": {},
   "source": [
    "9.What is the concept of an online learning system?\n",
    "\n",
    "online learning system is a learning system in which the machine learns continuesly as a data is given ia small streams "
   ]
  },
  {
   "cell_type": "code",
   "execution_count": null,
   "id": "31006208",
   "metadata": {},
   "outputs": [],
   "source": []
  }
 ],
 "metadata": {
  "kernelspec": {
   "display_name": "Python 3 (ipykernel)",
   "language": "python",
   "name": "python3"
  },
  "language_info": {
   "codemirror_mode": {
    "name": "ipython",
    "version": 3
   },
   "file_extension": ".py",
   "mimetype": "text/x-python",
   "name": "python",
   "nbconvert_exporter": "python",
   "pygments_lexer": "ipython3",
   "version": "3.9.7"
  }
 },
 "nbformat": 4,
 "nbformat_minor": 5
}
