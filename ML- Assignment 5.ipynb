{
 "cells": [
  {
   "cell_type": "markdown",
   "id": "939297f7",
   "metadata": {},
   "source": [
    "1. What are the key tasks that machine learning entails? What does data pre-processing imply?\n",
    "\n",
    "There are 5 core task in the ML workflow\n",
    "1.Get data\n",
    "2.cleaning,preparing,and manipulation data\n",
    "3.Train model\n",
    "4.improving model\n"
   ]
  },
  {
   "cell_type": "markdown",
   "id": "cb55b758",
   "metadata": {},
   "source": [
    "2. Describe quantitative and qualitative data in depth. Make a distinction between the two.\n",
    "\n",
    "The data type is brodly classified into\n",
    "1.Qunatitative\n",
    "2.Qualitative"
   ]
  },
  {
   "cell_type": "markdown",
   "id": "f35859b8",
   "metadata": {},
   "source": [
    "3. Create a basic data collection that includes some sample records. Have at least one attribute from\n",
    "each of the machine learning data types.\n",
    "\n",
    "The following is the basic data collection that include\n",
    "1.Determine what information you want to collect\n",
    "2.set a time frame for data collection\n",
    "3.determine your data collection model\n",
    "4. collect the data\n",
    "5.Analyse the data."
   ]
  },
  {
   "cell_type": "markdown",
   "id": "2303c431",
   "metadata": {},
   "source": [
    "4. What are the various causes of machine learning data issues? What are the ramifications?\n",
    "\n",
    "Noisy data ,dirty data, and incomplete data are the enemies of the ideal machine learning."
   ]
  },
  {
   "cell_type": "markdown",
   "id": "8225628b",
   "metadata": {},
   "source": [
    "5. Demonstrate various approaches to categorical data exploration with appropriate examples.\n",
    "\n",
    "Various approches to categorical data exploration to\n",
    "1.unique value count\n",
    "2.frequency count\n",
    "3. variance\n",
    "4.pareto analysis\n",
    "5.histogram\n",
    "outlier overview\n"
   ]
  },
  {
   "cell_type": "markdown",
   "id": "7c25d71a",
   "metadata": {},
   "source": [
    "6. How would the learning activity be affected if certain variables have missing values? Having said\n",
    "that, what can be done about it?\n",
    "\n",
    "Even in a well designed and controlled study ,missing data occurs in almost all research."
   ]
  },
  {
   "cell_type": "markdown",
   "id": "3db5b091",
   "metadata": {},
   "source": [
    "7. Describe the various methods for dealing with missing data values in depth.\n",
    "\n",
    "The various method for dealing with missing data values\n",
    "\n",
    "1.delete the observation\n",
    "2.replace missing values\n",
    "3.develop a model to predict."
   ]
  },
  {
   "cell_type": "markdown",
   "id": "3fcc9b03",
   "metadata": {},
   "source": [
    "8. What are the various data pre-processing techniques? Explain dimensionality reduction and\n",
    "function selection in a few words.\n",
    "\n",
    "The various data pre processing techniques are\n",
    "1.missing data\n",
    "2.data cleaning\n",
    "3.noisy data\n",
    "4. data reduction"
   ]
  },
  {
   "cell_type": "markdown",
   "id": "ed39bc9d",
   "metadata": {},
   "source": [
    "9.\n",
    "\n",
    "i. What is the IQR? What criteria are used to assess it?\n",
    "\n",
    "ii. Describe the various components of a box plot in detail? When will the lower whisker\n",
    "surpass the upper whisker in length? How can box plots be used to identify outliers?\n",
    "\n",
    "1.Q1 is the first quartile of the data i.e to say 25% of the data\n",
    "2.Q3 is the third quartile of the data i.e to say 75% if the data\n"
   ]
  },
  {
   "cell_type": "markdown",
   "id": "3d14f92d",
   "metadata": {},
   "source": [
    "10. Make brief notes on any two of the following:\n",
    "\n",
    "1. Data collected at regular intervals\n",
    "\n",
    "2. The gap between the quartiles\n",
    "\n",
    "3. Use a cross-tab"
   ]
  }
 ],
 "metadata": {
  "kernelspec": {
   "display_name": "Python 3 (ipykernel)",
   "language": "python",
   "name": "python3"
  },
  "language_info": {
   "codemirror_mode": {
    "name": "ipython",
    "version": 3
   },
   "file_extension": ".py",
   "mimetype": "text/x-python",
   "name": "python",
   "nbconvert_exporter": "python",
   "pygments_lexer": "ipython3",
   "version": "3.9.7"
  }
 },
 "nbformat": 4,
 "nbformat_minor": 5
}
