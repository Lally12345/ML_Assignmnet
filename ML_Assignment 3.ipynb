{
 "cells": [
  {
   "cell_type": "markdown",
   "id": "6fdf2a82",
   "metadata": {},
   "source": [
    "1.Explain the term machine learning, and how does it work? Explain two machine learning\n",
    "applications in the business world. What are some of the ethical concerns that machine learning\n",
    "applications could raise?\n",
    "\n",
    "Machine learning is a branch of artificial intelligence and computer science which focuses on the use of data and algorithims to imitate the way that humans learn\n",
    "1. Real time chatbot agents\n",
    "2. decision support\n",
    "3. customer churn modeling\n",
    "4. fraud detection\n"
   ]
  },
  {
   "cell_type": "markdown",
   "id": "4ae3ebcb",
   "metadata": {},
   "source": [
    "3. Provide a few examples of various types of machine learning.\n",
    "\n",
    "Example of supervised machine learning is text classification problem\n",
    "example of unsupervised machine learning is fraud dection malware detection clustering analysis identification of human errors during data entry"
   ]
  },
  {
   "cell_type": "markdown",
   "id": "d64f07db",
   "metadata": {},
   "source": [
    "4. Examine the various forms of machine learning.\n",
    "\n",
    "the various forms of machine learning\n",
    "1. Supervised learning\n",
    "2. unsupervised learning\n",
    "3. Reinforcement learning\n"
   ]
  },
  {
   "cell_type": "markdown",
   "id": "836ed2de",
   "metadata": {},
   "source": [
    "6. Is machine learning capable of solving all problems? Give a detailed explanation of your answer.\n",
    "\n",
    "Machine learning probably can run into all problems for solving but lays down with some concerns which are ethics, lack of data "
   ]
  },
  {
   "cell_type": "markdown",
   "id": "7bf555c7",
   "metadata": {},
   "source": [
    "7. What are the various methods and technologies for solving machine learning problems? Any two\n",
    "of them should be defined in detail.\n",
    "\n",
    "the various methods and technologies for solving machine learning problems\n",
    "sciit learn, pytorch, tensorflow, keras, python"
   ]
  },
  {
   "cell_type": "markdown",
   "id": "cd8150c6",
   "metadata": {},
   "source": [
    "8. Can you explain the various forms of supervised learning? Explain each one with an example\n",
    "application.\n",
    "\n",
    "he various forms of supervised learning is \n",
    "1. Regression\n",
    "2. classification\n",
    "3. Naive bayes modl\n",
    "4. decision tree\n"
   ]
  },
  {
   "cell_type": "markdown",
   "id": "2f1f5b1d",
   "metadata": {},
   "source": [
    "10. Describe the machine learning process in depth.\n",
    "\n",
    "Deep learning application in healthcare\n",
    "linear regression\n",
    "study of the market basket\n"
   ]
  },
  {
   "cell_type": "code",
   "execution_count": null,
   "id": "f4d47fa5",
   "metadata": {},
   "outputs": [],
   "source": []
  }
 ],
 "metadata": {
  "kernelspec": {
   "display_name": "Python 3 (ipykernel)",
   "language": "python",
   "name": "python3"
  },
  "language_info": {
   "codemirror_mode": {
    "name": "ipython",
    "version": 3
   },
   "file_extension": ".py",
   "mimetype": "text/x-python",
   "name": "python",
   "nbconvert_exporter": "python",
   "pygments_lexer": "ipython3",
   "version": "3.9.7"
  }
 },
 "nbformat": 4,
 "nbformat_minor": 5
}
