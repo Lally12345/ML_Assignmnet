{
 "cells": [
  {
   "cell_type": "markdown",
   "id": "97c6993b",
   "metadata": {},
   "source": [
    "1. In the sense of machine learning, what is a model? What is the best way to train a model?\n",
    "\n",
    "A machine learning model is a file that has been trained to recognize certaintypes of pattern.\n",
    "1.Model naming\n",
    "2.data type selection\n",
    "3.data upload\n",
    "4.start training\n",
    "5.tyoe category"
   ]
  },
  {
   "cell_type": "markdown",
   "id": "6d31f1ee",
   "metadata": {},
   "source": [
    "2. In the sense of machine learning, explain the &quot;No Free Lunch&quot; theorem.\n",
    "\n",
    "The no free lunch theroem often abbreviated as NFL or NFLT , is a theoritical finding that suggest all optimization algorithms performsequally well when their performance is averaged over qll possible objective function."
   ]
  },
  {
   "cell_type": "markdown",
   "id": "b7b2c8f4",
   "metadata": {},
   "source": [
    "3. Describe the K-fold cross-validation mechanism in detail.\n",
    "\n",
    "IN K fold cross validation data D is subset into k subsets randomly."
   ]
  },
  {
   "cell_type": "markdown",
   "id": "8d6b5861",
   "metadata": {},
   "source": [
    "4. Describe the bootstrap sampling method. What is the aim of it?\n",
    "\n",
    "The bootstrap method is a statistical technique for estimating quantities about a population by averginjg estimates from multipe small data samples."
   ]
  },
  {
   "cell_type": "markdown",
   "id": "f164fc80",
   "metadata": {},
   "source": [
    "5. What is the significance of calculating the Kappa value for a classification model? Demonstrate\n",
    "how to measure the Kappa value of a classification model using a sample collection of results.\n",
    "\n"
   ]
  },
  {
   "cell_type": "markdown",
   "id": "00f1f78f",
   "metadata": {},
   "source": [
    "6. Describe the model ensemble method. In machine learning, what part does it play?\n",
    "\n",
    "Ensemble methods or ensemble machine learning models are models where more than one models are eing used."
   ]
  },
  {
   "cell_type": "markdown",
   "id": "8b1c1d05",
   "metadata": {},
   "source": [
    "6. Describe the model ensemble method. In machine learning, what part does it play?\n",
    "\n",
    "A descriptive model is used for tasks that would benefit from the insight gained from summerzing data in new and intersting ways."
   ]
  },
  {
   "cell_type": "markdown",
   "id": "f7543315",
   "metadata": {},
   "source": [
    "8. Describe how to evaluate a linear regression model.\n",
    "\n",
    "Evaluation of a linear regression model can be done using R-square \n",
    "1. Mean square error(MSE)/(RMSE)\n",
    "2.Mean absolute error(MAE)"
   ]
  },
  {
   "cell_type": "markdown",
   "id": "b23dbfa1",
   "metadata": {},
   "source": [
    "9. Distinguish :\n",
    "\n",
    "1. Descriptive vs. predictive models\n",
    "\n",
    "2. Underfitting vs. overfitting the model\n",
    "\n",
    "3. Bootstrapping vs. cross-validation"
   ]
  },
  {
   "cell_type": "code",
   "execution_count": null,
   "id": "1f8edb2a",
   "metadata": {},
   "outputs": [],
   "source": []
  }
 ],
 "metadata": {
  "kernelspec": {
   "display_name": "Python 3 (ipykernel)",
   "language": "python",
   "name": "python3"
  },
  "language_info": {
   "codemirror_mode": {
    "name": "ipython",
    "version": 3
   },
   "file_extension": ".py",
   "mimetype": "text/x-python",
   "name": "python",
   "nbconvert_exporter": "python",
   "pygments_lexer": "ipython3",
   "version": "3.9.7"
  }
 },
 "nbformat": 4,
 "nbformat_minor": 5
}
