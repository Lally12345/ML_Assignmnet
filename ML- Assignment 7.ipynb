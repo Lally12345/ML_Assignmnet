{
 "cells": [
  {
   "cell_type": "markdown",
   "id": "7e56e793",
   "metadata": {},
   "source": [
    "1. What is the definition of a target function? In the sense of a real-life example, express the target\n",
    "function. How is a target function&#39;s fitness assessed?\n",
    "\n",
    "A target function, in machine learning is a method for solving a problem that an AI algorithms parses its training data to find. the target function is essentially the formula that an algorithm feed data to in order to calculate prediction."
   ]
  },
  {
   "cell_type": "markdown",
   "id": "c4e1649d",
   "metadata": {},
   "source": [
    "2. What are predictive models, and how do they work? What are descriptive types, and how do you\n",
    "use them? Examples of both types of models should be provided. Distinguish between these two\n",
    "forms of models.\n",
    "\n",
    "In sort, predictive modeling a statistical technique using machine learning and data mining to predict and forecast likely future outcomes wit her the aid oof historical and existing data."
   ]
  },
  {
   "cell_type": "markdown",
   "id": "91354cc9",
   "metadata": {},
   "source": [
    "3. Describe the method of assessing a classification model&#39;s efficiency in detail. Describe the various\n",
    "measurement parameters.\n",
    "\n",
    "Logarithms loss measures the performance of a classification model where the prediction is a probability value between 0 and 1."
   ]
  },
  {
   "cell_type": "markdown",
   "id": "aedc3dc7",
   "metadata": {},
   "source": [
    "4.\n",
    "i. In the sense of machine learning models, what is underfitting? What is the most common\n",
    "reason for underfitting?\n",
    "ii. What does it mean to overfit? When is it going to happen?\n",
    "iii. In the sense of model fitting, explain the bias-variance trade-off.\n",
    "\n",
    "\n"
   ]
  },
  {
   "cell_type": "markdown",
   "id": "d9c752b4",
   "metadata": {},
   "source": [
    "5. Is it possible to boost the efficiency of a learning model? If so, please clarify how.\n",
    "\n",
    "Building a amchine learning model is not enough to get the right predictions, as you have to check the accuracy and need to validate the same to ensure get the precise results.\n",
    "\n",
    "1.add more data samples\n",
    "2.look at the problem differently\n",
    "3.adding context to data.\n",
    "4.train our model using cross validation.\n",
    "5.Expoerimenting with different algorithms."
   ]
  },
  {
   "cell_type": "markdown",
   "id": "80ea49fb",
   "metadata": {},
   "source": [
    "6. How would you rate an unsupervised learning model&#39;s success? What are the most common\n",
    "success indicators for an unsupervised learning model?\n",
    "\n",
    "in case of supervised learning, it is mostly done by measuring the performance metrics such as accuracy, precision, recall, AUC, etc."
   ]
  },
  {
   "cell_type": "markdown",
   "id": "f9f9b83f",
   "metadata": {},
   "source": [
    "7. Is it possible to use a classification model for numerical data or a regression model for categorical\n",
    "data with a classification model? Explain your answer.\n",
    "\n",
    "Categorical data is the data that generally takes a limited number of possible value also the data in the category need not be numerical, it can be textual in nature."
   ]
  },
  {
   "cell_type": "markdown",
   "id": "e432431b",
   "metadata": {},
   "source": [
    "8. Describe the predictive modeling method for numerical values. What distinguishes it from\n",
    "categorical predictive modeling?\n",
    "\n",
    "Predictive modeling is a statistical technique using machine learning and data mining to predict and forecst likely future outcomes with the aid of historical and existing data."
   ]
  },
  {
   "cell_type": "markdown",
   "id": "a052d818",
   "metadata": {},
   "source": [
    "9. The following data were collected when using a classification model to predict the malignancy of a\n",
    "group of patients&#39; tumors:\n",
    "i. Accurate estimates – 15 cancerous, 75 benign\n",
    "ii. Wrong predictions – 3 cancerous, 7 benign\n",
    "Determine the model&#39;s error rate, Kappa value, sensitivity, precision, and F-measure.\n",
    "\n",
    "\n"
   ]
  },
  {
   "cell_type": "markdown",
   "id": "a4bdb899",
   "metadata": {},
   "source": [
    "10. Make quick notes on:\n",
    "1. The process of holding out\n",
    "2. Cross-validation by tenfold\n",
    "3. Adjusting the parameters"
   ]
  },
  {
   "cell_type": "code",
   "execution_count": null,
   "id": "50fe6806",
   "metadata": {},
   "outputs": [],
   "source": []
  }
 ],
 "metadata": {
  "kernelspec": {
   "display_name": "Python 3 (ipykernel)",
   "language": "python",
   "name": "python3"
  },
  "language_info": {
   "codemirror_mode": {
    "name": "ipython",
    "version": 3
   },
   "file_extension": ".py",
   "mimetype": "text/x-python",
   "name": "python",
   "nbconvert_exporter": "python",
   "pygments_lexer": "ipython3",
   "version": "3.9.7"
  }
 },
 "nbformat": 4,
 "nbformat_minor": 5
}
