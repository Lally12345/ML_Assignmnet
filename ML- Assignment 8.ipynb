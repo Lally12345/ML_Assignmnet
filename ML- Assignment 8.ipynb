{
 "cells": [
  {
   "cell_type": "markdown",
   "id": "ec8432c4",
   "metadata": {},
   "source": [
    "1. What exactly is a feature? Give an example to illustrate your point.\n",
    "\n",
    "Features are the best building blocks of dataset. The quality of the features in your dataset has a major impact on the quality of the insights you will gain when you see the dataset for machine learning."
   ]
  },
  {
   "cell_type": "markdown",
   "id": "0748ec90",
   "metadata": {},
   "source": [
    "2. What are the various circumstances in which feature construction is required?\n",
    "\n",
    "The features in your data will directly influnce the predictive models you use and the results are dependent on many inter dependent properties."
   ]
  },
  {
   "cell_type": "markdown",
   "id": "ee42ee3b",
   "metadata": {},
   "source": [
    "3. Describe how nominal variables are encoded.\n",
    "\n",
    "Nominal data is made of discete values with no numerical relationship between the different categories-- mean and median are the meaningless. Animal species is one example."
   ]
  },
  {
   "cell_type": "markdown",
   "id": "9da7e4c2",
   "metadata": {},
   "source": [
    "4. Describe how numeric features are converted to categorical features.\n",
    "\n",
    "Numeric features can be converted to categorical features using binning. it is the process of transforming continuous variable into categorical variables by creating a set of intervals.\n",
    "benefit of this methds are\n",
    "1.handle the outliers in the better way\n",
    "2.imprves the value spread\n",
    "3.minimize the effects of small observation errors."
   ]
  },
  {
   "cell_type": "markdown",
   "id": "218998c2",
   "metadata": {},
   "source": [
    "5. Describe the feature selection wrapper approach. State the advantages and disadvantages of this\n",
    "approach?\n",
    "\n",
    "\n",
    "Wrapper methods measures the usefulness of feature based on the classifier performance. in constract the filter method pick up the intrinsic properties of the features.\n",
    "\n",
    "most commnly used techniques are\n",
    "1.forward selection\n",
    "2.backward selection\n",
    "3.Bi directional\n"
   ]
  },
  {
   "cell_type": "markdown",
   "id": "91691f38",
   "metadata": {},
   "source": [
    "6. When is a feature considered irrelevant? What can be said to quantify it?\n",
    "\n",
    "Features are considered relevant if they are either strngly or weakly relevant and are considered irrelevent\n",
    "there are three type of feature selection\n",
    "1.wrapper method\n",
    "2.filter method\n",
    "3.embedded methods."
   ]
  },
  {
   "cell_type": "markdown",
   "id": "c574f0a0",
   "metadata": {},
   "source": [
    "7. When is a function considered redundant? What criteria are used to identify features that could\n",
    "be redundant?\n",
    "\n",
    "if two features x1, x2 are highly correlated then the two features become redundant features since they have same information in trems of correlation measure."
   ]
  },
  {
   "cell_type": "markdown",
   "id": "8b8d579b",
   "metadata": {},
   "source": [
    "8. What are the various distance measurements used to determine feature similarity?\n",
    "\n",
    "four of the most commonly used distance measures in machine learning are\n",
    "1.Hamming distance\n",
    "2.euclidean distance\n",
    "3.manhattan distance\n",
    "4.minkowski distance"
   ]
  },
  {
   "cell_type": "markdown",
   "id": "7503887e",
   "metadata": {},
   "source": [
    "9. State difference between Euclidean and Manhattan distances?\n",
    "\n",
    "Euclidean and hamming distance are used to measure similarity or dissimilarity between two sequences. Euclidean distance is extensively applied in analysis odf convolutional codes and trellis codes."
   ]
  },
  {
   "cell_type": "markdown",
   "id": "40490fab",
   "metadata": {},
   "source": [
    "10. Distinguish between feature transformation and feature selection."
   ]
  },
  {
   "cell_type": "markdown",
   "id": "591c6a87",
   "metadata": {},
   "source": [
    "11. Make brief notes on any two of the following:\n",
    "\n",
    "1.SVD (Standard Variable Diameter Diameter)\n",
    "\n",
    "2. Collection of features using a hybrid approach\n",
    "\n",
    "3. The width of the silhouette\n",
    "\n",
    "4. Receiver operating characteristic curve"
   ]
  }
 ],
 "metadata": {
  "kernelspec": {
   "display_name": "Python 3 (ipykernel)",
   "language": "python",
   "name": "python3"
  },
  "language_info": {
   "codemirror_mode": {
    "name": "ipython",
    "version": 3
   },
   "file_extension": ".py",
   "mimetype": "text/x-python",
   "name": "python",
   "nbconvert_exporter": "python",
   "pygments_lexer": "ipython3",
   "version": "3.9.7"
  }
 },
 "nbformat": 4,
 "nbformat_minor": 5
}
