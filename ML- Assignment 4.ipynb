{
 "cells": [
  {
   "cell_type": "markdown",
   "id": "9fba1093",
   "metadata": {},
   "source": [
    "1. What are the key tasks involved in getting ready to work with machine learning modeling?\n",
    "\n",
    "the key tasks involved in getting ready to work with machine learning modeling are \n",
    "1.Data collection defining the problem.\n",
    "2.Data prepartion preparing your data.\n",
    "3.Choosing a  model\n",
    "4.Training a model\n",
    "5.Evaluting the model\n",
    "6.Parameter tuning\n",
    "7.Prediction or interface\n",
    "\n"
   ]
  },
  {
   "cell_type": "markdown",
   "id": "d68a765a",
   "metadata": {},
   "source": [
    "2. What are the different forms of data used in machine learning? Give a specific example for each of\n",
    "them.\n",
    "\n",
    "\n",
    "Most data can be categorized into 4 basic type\n",
    "1.Numerical data\n",
    "2.categorical data\n",
    "3.Time series data \n",
    "4.text data"
   ]
  },
  {
   "cell_type": "markdown",
   "id": "8718006b",
   "metadata": {},
   "source": [
    "3. Distinguish:\n",
    "\n",
    "1. Numeric vs. categorical attributes\n",
    "\n",
    "2. Feature selection vs. dimensionality reduction\n",
    "\n",
    "1. Numerical data are value that obtained for quantitative variableand carries a sence of magnitude\n",
    "2.Categorical data are value obtained for a  qualitative variable.\n",
    "3.numrical dataalways being to either ordinal or interval type.\n",
    "4.numerical data are analysed using statical methods."
   ]
  },
  {
   "cell_type": "markdown",
   "id": "33432cf3",
   "metadata": {},
   "source": [
    "4. Make quick notes on any two of the following:\n",
    "\n",
    "1. The histogram\n",
    "\n",
    "2. Use a scatter plot\n",
    "\n",
    "3.PCA (Personal Computer Aid)\n",
    "\n",
    "\n"
   ]
  },
  {
   "cell_type": "markdown",
   "id": "f1487d6a",
   "metadata": {},
   "source": [
    "5. Why is it necessary to investigate data? Is there a discrepancy in how qualitative and quantitative\n",
    "data are explored?\n",
    "\n",
    "if your data set is messy building models will not help you to solve your problem what will happen in garbage in , garbage out in order to build a powerful machine learning algoritm."
   ]
  },
  {
   "cell_type": "markdown",
   "id": "24928232",
   "metadata": {},
   "source": [
    " 6. What are the various histogram shapes? What exactly are ‘bins&#39;?\n",
    "    \n",
    "The difference type of a histogram is \n",
    "1. uniform histogram\n",
    "2.symmetric histogram\n",
    "3.bimodal histaogram\n",
    "4.probability histogram"
   ]
  },
  {
   "cell_type": "markdown",
   "id": "f89df82a",
   "metadata": {},
   "source": [
    "7. How do we deal with data outliers?\n",
    "\n",
    "we can use z-score or any of method to deal with data outliers."
   ]
  },
  {
   "cell_type": "markdown",
   "id": "85e3915e",
   "metadata": {},
   "source": [
    "8. What are the various central inclination measures? Why does mean vary too much from median in\n",
    "certain data sets?\n",
    "\n",
    "Mean , mode, and median are central inclination measuures."
   ]
  },
  {
   "cell_type": "markdown",
   "id": "d368ddba",
   "metadata": {},
   "source": [
    "9. Describe how a scatter plot can be used to investigate bivariate relationships. Is it possible to find\n",
    "outliers using a scatter plot?\n",
    "\n",
    "A scatter plot uses dots to represent values for two different numericvariables."
   ]
  },
  {
   "cell_type": "markdown",
   "id": "8f77ff67",
   "metadata": {},
   "source": [
    "10. Describe how cross-tabs can be used to figure out how two variables are related.\n",
    "\n",
    "Cross tabulation is a method to quantitatively analyse the relationship between multiple variables."
   ]
  },
  {
   "cell_type": "code",
   "execution_count": null,
   "id": "ab4b7113",
   "metadata": {},
   "outputs": [],
   "source": []
  }
 ],
 "metadata": {
  "kernelspec": {
   "display_name": "Python 3 (ipykernel)",
   "language": "python",
   "name": "python3"
  },
  "language_info": {
   "codemirror_mode": {
    "name": "ipython",
    "version": 3
   },
   "file_extension": ".py",
   "mimetype": "text/x-python",
   "name": "python",
   "nbconvert_exporter": "python",
   "pygments_lexer": "ipython3",
   "version": "3.9.7"
  }
 },
 "nbformat": 4,
 "nbformat_minor": 5
}
