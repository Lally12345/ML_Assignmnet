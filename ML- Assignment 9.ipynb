{
 "cells": [
  {
   "cell_type": "markdown",
   "id": "436454a1",
   "metadata": {},
   "source": [
    "1. What is feature engineering, and how does it work? Explain the various aspects of feature\n",
    "engineering in depth.\n",
    "\n",
    "Feature engineering is the process of selecting manipulating and transforming raw data into feature that can be used supervisd learning. in order to mae machine learning work well on new tasks "
   ]
  },
  {
   "cell_type": "markdown",
   "id": "2e971d76",
   "metadata": {},
   "source": [
    "2. What is feature selection, and how does it work? What is the aim of it? What are the various\n",
    "methods of function selection?\n",
    "\n",
    "Feature selection is the process where you automatically or manually select those features which contibute most to your prediction variable or output in which you are interested in it.\n",
    "there are 3 type of feature selection\n",
    "1.wrapper methods\n",
    "2.fiter methods\n",
    "3.embeded methods"
   ]
  },
  {
   "cell_type": "markdown",
   "id": "6df9d197",
   "metadata": {},
   "source": [
    "3. Describe the function selection filter and wrapper approaches. State the pros and cons of each\n",
    "approach?\n",
    "\n",
    "The main difference between the filter and wrapper methods are\n",
    ".filter methods are meausre the relevance of feature by their correlation with dependent variable.\n",
    ".filter methods are much faster compared to wrapper methods\n",
    ".filter method used statistical meyhod for evaluation of a  subset"
   ]
  },
  {
   "cell_type": "markdown",
   "id": "5faa01e6",
   "metadata": {},
   "source": [
    "4.\n",
    "\n",
    "i. Describe the overall feature selection process.\n",
    "\n",
    "ii. Explain the key underlying principle of feature extraction using an example. What are the most\n",
    "widely used function extraction algorithms?\n",
    "\n",
    "Feature selection is the process of reducing the number of input variables when developing a predictive model. it is desirable to reduce the number of input variables to both reduce the computational cost of modeling\n",
    "\n",
    "there are type of feature selections is \n",
    "1.wrapper methods\n",
    "2.filter methods\n",
    "3.embded methods\n",
    "\n",
    "\n"
   ]
  },
  {
   "cell_type": "markdown",
   "id": "3dab8031",
   "metadata": {},
   "source": [
    "5. Describe the feature engineering process in the sense of a text categorization issue.\n",
    "\n",
    "Text classification is the problem of assigning categories to text data according to its content the most important part of text classification is features engineering the process of feature engineering creates feature for a machine learning model from raw text data.\n"
   ]
  },
  {
   "cell_type": "markdown",
   "id": "e216ac38",
   "metadata": {},
   "source": [
    "6. What makes cosine similarity a good metric for text categorization? A document-term matrix has\n",
    "two rows with values of (2, 3, 2, 0, 2, 3, 3, 0, 1) and (2, 1, 0, 0, 3, 2, 1, 3, 1). Find the resemblance in\n",
    "cosine."
   ]
  },
  {
   "cell_type": "markdown",
   "id": "e163a007",
   "metadata": {},
   "source": [
    "7.\n",
    "\n",
    "i. What is the formula for calculating Hamming distance? Between 10001011 and 11001111,\n",
    "calculate the Hamming gap.\n",
    "\n",
    "ii. Compare the Jaccard index and similarity matching coefficient of two features with values (1, 1, 0,\n",
    "0, 1, 0, 1, 1) and (1, 1, 0, 0, 0, 1, 1, 1), respectively (1, 0, 0, 1, 1, 0, 0, 1)."
   ]
  },
  {
   "cell_type": "markdown",
   "id": "1a7ea62b",
   "metadata": {},
   "source": [
    "8. State what is meant by &quot;high-dimensional data set&quot;? Could you offer a few real-life examples?\n",
    "What are the difficulties in using machine learning techniques on a data set with many dimensions?\n",
    "What can be done about it?"
   ]
  }
 ],
 "metadata": {
  "kernelspec": {
   "display_name": "Python 3 (ipykernel)",
   "language": "python",
   "name": "python3"
  },
  "language_info": {
   "codemirror_mode": {
    "name": "ipython",
    "version": 3
   },
   "file_extension": ".py",
   "mimetype": "text/x-python",
   "name": "python",
   "nbconvert_exporter": "python",
   "pygments_lexer": "ipython3",
   "version": "3.9.7"
  }
 },
 "nbformat": 4,
 "nbformat_minor": 5
}
